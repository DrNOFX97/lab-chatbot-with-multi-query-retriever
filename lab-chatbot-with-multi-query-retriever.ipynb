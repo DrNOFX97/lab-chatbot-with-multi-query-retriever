{
 "cells": [
  {
   "cell_type": "markdown",
   "metadata": {},
   "source": [
    "# Question Answering with LangChain, OpenAI, and MultiQuery Retriever\n",
    "\n",
    "This interactive workbook demonstrates example of Elasticsearch's [MultiQuery Retriever](https://api.python.langchain.com/en/latest/retrievers/langchain.retrievers.multi_query.MultiQueryRetriever.html) to generate similar queries for a given user input and apply all queries to retrieve a larger set of relevant documents from a vectorstore.\n",
    "\n",
    "Before we begin, we first split the fictional workplace documents into passages with `langchain` and uses OpenAI to transform these passages into embeddings and then store these into Elasticsearch.\n",
    "\n",
    "We will then ask a question, generate similar questions using langchain and OpenAI, retrieve relevant passages from the vector store, and use langchain and OpenAI again to provide a summary for the questions."
   ]
  },
  {
   "cell_type": "markdown",
   "metadata": {},
   "source": [
    "## Install packages and import modules"
   ]
  },
  {
   "cell_type": "code",
   "execution_count": 1,
   "metadata": {},
   "outputs": [],
   "source": [
    "#%pip install --upgrade --quiet langchain-elasticsearch langchain-openai tiktoken langchain"
   ]
  },
  {
   "cell_type": "code",
   "execution_count": 2,
   "metadata": {},
   "outputs": [],
   "source": [
    "#!python3 -m pip install -qU jq lark langchain langchain-elasticsearch langchain_openai tiktoken langchain_community\n",
    "\n",
    "from langchain_elasticsearch import ElasticsearchStore\n",
    "from langchain_openai import OpenAI, ChatOpenAI, OpenAIEmbeddings\n",
    "from langchain.retrievers.multi_query import MultiQueryRetriever"
   ]
  },
  {
   "cell_type": "markdown",
   "metadata": {},
   "source": [
    "## Connect to Elasticsearch\n",
    "\n",
    "ℹ️ We're using an Elastic Cloud deployment of Elasticsearch for this notebook. If you don't have an Elastic Cloud deployment, sign up [here](https://cloud.elastic.co/registration?utm_source=github&utm_content=elasticsearch-labs-notebook) for a free trial. \n",
    "\n",
    "We'll use the **Cloud ID** to identify our deployment, because we are using Elastic Cloud deployment. To find the Cloud ID for your deployment, go to https://cloud.elastic.co/deployments and select your deployment.\n",
    "\n",
    "We will use [ElasticsearchStore](https://api.python.langchain.com/en/latest/vectorstores/langchain.vectorstores.elasticsearch.ElasticsearchStore.html) to connect to our elastic cloud deployment, This would help create and index data easily.  We would also send list of documents that we created in the previous step"
   ]
  },
  {
   "cell_type": "code",
   "execution_count": 3,
   "metadata": {},
   "outputs": [],
   "source": [
    "import os\n",
    "from dotenv import load_dotenv, find_dotenv\n",
    "\n",
    "# Load environment variables from the .env file\n",
    "load_dotenv(find_dotenv())\n",
    "\n",
    "# Access the API keys and cloud ID from the environment variables\n",
    "ELASTIC_CLOUD_ID = os.getenv(\"ELASTIC_CLOUD_ID\")\n",
    "ELASTIC_API_KEY = os.getenv(\"ELASTIC_API_KEY\")\n",
    "OPENAI_API_KEY = os.getenv(\"OPENAI_API_KEY\")"
   ]
  },
  {
   "cell_type": "code",
   "execution_count": 4,
   "metadata": {},
   "outputs": [],
   "source": [
    "embeddings = OpenAIEmbeddings(openai_api_key=OPENAI_API_KEY)\n",
    "\n",
    "vectorstore = ElasticsearchStore(\n",
    "    es_cloud_id=ELASTIC_CLOUD_ID,\n",
    "    es_api_key=ELASTIC_API_KEY,\n",
    "    index_name=\"search\", #give it a meaningful name,\n",
    "    embedding=embeddings,\n",
    ")"
   ]
  },
  {
   "cell_type": "markdown",
   "metadata": {},
   "source": [
    "## Indexing Data into Elasticsearch\n",
    "Let's download the sample dataset and deserialize the document."
   ]
  },
  {
   "cell_type": "code",
   "execution_count": 5,
   "metadata": {},
   "outputs": [],
   "source": [
    "from urllib.request import urlopen\n",
    "import json\n",
    "\n",
    "url = \"https://raw.githubusercontent.com/elastic/elasticsearch-labs/main/example-apps/chatbot-rag-app/data/data.json\"\n",
    "\n",
    "response = urlopen(url)\n",
    "data = json.load(response)\n",
    "\n",
    "with open(\"temp.json\", \"w\") as json_file:\n",
    "    json.dump(data, json_file)"
   ]
  },
  {
   "cell_type": "code",
   "execution_count": 6,
   "metadata": {},
   "outputs": [
    {
     "name": "stdout",
     "output_type": "stream",
     "text": [
      "Number of records with null or empty 'updated_at': 0\n"
     ]
    }
   ],
   "source": [
    "# Initialize counter\n",
    "null_or_empty_count = 0\n",
    "\n",
    "# Iterate through records\n",
    "for record in data:\n",
    "    if 'updated_at' in record and (not record['updated_at'] or record['updated_at'].strip() == ''):\n",
    "        null_or_empty_count += 1\n",
    "\n",
    "print(f\"Number of records with null or empty 'updated_at': {null_or_empty_count}\")\n"
   ]
  },
  {
   "cell_type": "code",
   "execution_count": 7,
   "metadata": {},
   "outputs": [
    {
     "name": "stdout",
     "output_type": "stream",
     "text": [
      "Data type 'str': 5 occurrences\n"
     ]
    }
   ],
   "source": [
    "from collections import defaultdict\n",
    "\n",
    "# Dictionary to store counts of each data type\n",
    "data_type_counts = defaultdict(int)\n",
    "\n",
    "# Iterate through records\n",
    "for record in data:\n",
    "    if 'updated_at' in record:\n",
    "        data_type = type(record['updated_at']).__name__\n",
    "        data_type_counts[data_type] += 1\n",
    "\n",
    "# Print the counts of each data type\n",
    "for data_type, count in data_type_counts.items():\n",
    "    print(f\"Data type '{data_type}': {count} occurrences\")"
   ]
  },
  {
   "cell_type": "markdown",
   "metadata": {},
   "source": [
    "### Split Documents into Passages\n",
    "\n",
    "We’ll chunk documents into passages in order to improve the retrieval specificity and to ensure that we can provide multiple passages within the context window of the final question answering prompt.\n",
    "\n",
    "Here we are chunking documents into 800 token passages with an overlap of 400 tokens.\n",
    "\n",
    "Here we are using a simple splitter but Langchain offers more advanced splitters to reduce the chance of context being lost."
   ]
  },
  {
   "cell_type": "code",
   "execution_count": 8,
   "metadata": {},
   "outputs": [],
   "source": [
    "from langchain.document_loaders import JSONLoader\n",
    "from langchain.text_splitter import RecursiveCharacterTextSplitter\n",
    "\n",
    "\n",
    "def metadata_func(record: dict, metadata: dict) -> dict:\n",
    "    #Populate the metadata dictionary with keys name, summary, url, category, and updated_at.\n",
    "    metadata[\"name\"] = record.get(\"name\")\n",
    "    metadata[\"summary\"] = record.get(\"summary\")\n",
    "    metadata[\"url\"] = record.get(\"url\")\n",
    "    metadata[\"category\"] = record.get(\"category\")\n",
    "    metadata[\"updated_at\"] = record.get(\"updated_at\")\n",
    "\n",
    "    return metadata\n",
    "\n",
    "\n",
    "# For more loaders https://python.langchain.com/docs/modules/data_connection/document_loaders/\n",
    "# And 3rd party loaders https://python.langchain.com/docs/modules/data_connection/document_loaders/#third-party-loaders\n",
    "loader = JSONLoader(\n",
    "    file_path=\"temp.json\",\n",
    "    jq_schema=\".[]\",\n",
    "    content_key=\"content\",\n",
    "    metadata_func=metadata_func,\n",
    ")\n",
    "\n",
    "text_splitter = RecursiveCharacterTextSplitter.from_tiktoken_encoder(\n",
    "    chunk_size=800, chunk_overlap=400 #define chunk size and chunk overlap\n",
    ")\n",
    "docs = loader.load_and_split(text_splitter=text_splitter)"
   ]
  },
  {
   "cell_type": "markdown",
   "metadata": {},
   "source": [
    "### Bulk Import Passages\n",
    "\n",
    "Now that we have split each document into the chunk size of 800, we will now index data to elasticsearch using [ElasticsearchStore.from_documents](https://api.python.langchain.com/en/latest/vectorstores/langchain.vectorstores.elasticsearch.ElasticsearchStore.html#langchain.vectorstores.elasticsearch.ElasticsearchStore.from_documents).\n",
    "\n",
    "We will use Cloud ID, Password and Index name values set in the `Create cloud deployment` step."
   ]
  },
  {
   "cell_type": "code",
   "execution_count": 9,
   "metadata": {},
   "outputs": [],
   "source": [
    "documents = vectorstore.from_documents(\n",
    "    docs,\n",
    "    embeddings,\n",
    "    index_name=\"search\",\n",
    "    es_cloud_id=ELASTIC_CLOUD_ID,\n",
    "    es_api_key=ELASTIC_API_KEY,\n",
    ")\n",
    "\n",
    "llm = OpenAI(temperature=0, openai_api_key=OPENAI_API_KEY)\n",
    "\n",
    "retriever = MultiQueryRetriever.from_llm(vectorstore.as_retriever(), llm)"
   ]
  },
  {
   "cell_type": "markdown",
   "metadata": {},
   "source": [
    "# Question Answering with MultiQuery Retriever\n",
    "\n",
    "Now that we have the passages stored in Elasticsearch, we can now ask a question to get the relevant passages."
   ]
  },
  {
   "cell_type": "code",
   "execution_count": 10,
   "metadata": {},
   "outputs": [
    {
     "name": "stderr",
     "output_type": "stream",
     "text": [
      "INFO:langchain.retrievers.multi_query:Generated queries: ['1. Can you provide information on the sales team at NASA?', '2. How does the sales team operate within NASA?', '3. What are the responsibilities of the NASA sales team?']\n"
     ]
    },
    {
     "name": "stdout",
     "output_type": "stream",
     "text": [
      "---- Answer ----\n",
      "The NASA sales team is a part of the Americas region in the sales organization. It is responsible for serving customers in North America and South America, with two Area Vice-Presidents, Laura Martinez and Gary Johnson. The team works closely with other departments to identify and pursue new business opportunities, nurture existing client relationships, and ensure customer satisfaction.\n"
     ]
    }
   ],
   "source": [
    "from langchain.schema.runnable import RunnableParallel, RunnablePassthrough\n",
    "from langchain.prompts import ChatPromptTemplate, PromptTemplate\n",
    "from langchain.schema import format_document\n",
    "\n",
    "import logging\n",
    "\n",
    "# Configure logging to show INFO level logs from the 'langchain.retrievers.multi_query' module\n",
    "logging.basicConfig()\n",
    "logging.getLogger(\"langchain.retrievers.multi_query\").setLevel(logging.INFO)\n",
    "\n",
    "# Define a chat prompt template for contextual information retrieval tasks\n",
    "LLM_CONTEXT_PROMPT = ChatPromptTemplate.from_template(\n",
    "    \"\"\"You are an assistant for question-answering tasks. Use the following pieces of retrieved context to answer the question. If you don't know the answer, just say that you don't know. Be as verbose and educational in your response as possible.\n",
    "\n",
    "    context: {context}\n",
    "    Question: \"{question}\"\n",
    "    Answer:\n",
    "    \"\"\"\n",
    ")\n",
    "\n",
    "# Define a prompt template for documents, specifying the source name and page content\n",
    "LLM_DOCUMENT_PROMPT = PromptTemplate.from_template(\n",
    "    \"\"\"\n",
    "---\n",
    "SOURCE: {name}\n",
    "{page_content}\n",
    "---\n",
    "\"\"\"\n",
    ")\n",
    "\n",
    "# Function to combine multiple documents into a single formatted string separated by document_separator\n",
    "def _combine_documents(\n",
    "    docs, document_prompt=LLM_DOCUMENT_PROMPT, document_separator=\"\\n\\n\"\n",
    "):\n",
    "    # Format each document using format_document function with specified document_prompt\n",
    "    doc_strings = [format_document(doc, document_prompt) for doc in docs]\n",
    "    # Join formatted document strings using document_separator\n",
    "    return document_separator.join(doc_strings)\n",
    "\n",
    "# RunnableParallel instance that combines context retrieval with document formatting\n",
    "_context = RunnableParallel(\n",
    "    context=retriever | _combine_documents,  # Context includes document retrieval and formatting\n",
    "    question=RunnablePassthrough(),  # Passes questions through unchanged\n",
    ")\n",
    "\n",
    "# Define a processing chain combining context retrieval, prompting, and language model inference\n",
    "chain = _context | LLM_CONTEXT_PROMPT | llm\n",
    "\n",
    "# Invoke the processing chain with a specific question\n",
    "ans = chain.invoke(\"what is the nasa sales team?\")\n",
    "\n",
    "# Print the resulting answer from the language model inference\n",
    "print(\"---- Answer ----\")\n",
    "print(ans)\n"
   ]
  },
  {
   "cell_type": "markdown",
   "metadata": {},
   "source": [
    "**Generate at least two new iterations of the previous cells - Be creative.** Did you master Multi-\n",
    "Query Retriever concepts through this lab?"
   ]
  },
  {
   "cell_type": "code",
   "execution_count": 11,
   "metadata": {},
   "outputs": [
    {
     "name": "stdout",
     "output_type": "stream",
     "text": [
      "=== Processing All Questions ===\n"
     ]
    },
    {
     "name": "stderr",
     "output_type": "stream",
     "text": [
      "INFO:langchain.retrievers.multi_query:Generated queries: ['1. What was the initial creature to travel to space?', '2. Which animal was the pioneer in space exploration?', '3. What was the primary living being to venture into outer space?']\n"
     ]
    },
    {
     "name": "stdout",
     "output_type": "stream",
     "text": [
      "---- Question: What was the first animal in space? ----\n",
      "---- Answer ----\n",
      "\n",
      "The first animal in space was a dog named Laika, who was launched into orbit by the Soviet Union on November 3, 1957.\n",
      "\n",
      "\n"
     ]
    },
    {
     "name": "stderr",
     "output_type": "stream",
     "text": [
      "INFO:langchain.retrievers.multi_query:Generated queries: ['1. What is the best way to sell a spaceship?', '2. How can I go about selling a spaceship?', '3. What are some effective methods for selling a spaceship?']\n"
     ]
    },
    {
     "name": "stdout",
     "output_type": "stream",
     "text": [
      "---- Question: How to sale a spaceship? ----\n",
      "---- Answer ----\n",
      "\n",
      "As an assistant for question-answering tasks, I am not able to provide specific sales strategies for a spaceship. However, I can provide some general tips for selling any product or service.\n",
      "\n",
      "First, it is important to understand the customer's needs and pain points. In this case, the customer may be interested in space exploration or transportation. It is important to be prepared and have a thorough understanding of the features and benefits of the spaceship, as well as any potential concerns or questions the customer may have.\n",
      "\n",
      "Next, it is crucial to effectively communicate the technical aspects of the product in a simple language that the customer can understand. This may involve working closely with the engineering team to ensure a clear and concise explanation.\n",
      "\n",
      "Additionally, it is important to address any concerns or questions the customer may have. This could include providing information on safety measures, maintenance, or any other relevant details.\n",
      "\n",
      "Continuous improvement is also key in selling a product. Actively seeking feedback from the sales team and customers can help identify areas of improvement and enhance the product or service offerings.\n",
      "\n",
      "Finally, mutual respect and support between the sales and engineering teams is essential for success. By working together and leveraging each other's strengths, both teams can contribute to the overall success of the company and ensure customer satisfaction.\n",
      "\n",
      "\n"
     ]
    },
    {
     "name": "stderr",
     "output_type": "stream",
     "text": [
      "INFO:langchain.retrievers.multi_query:Generated queries: [\"1. What changes have been made to the company's Intellectual Property Policy in light of advancements in AI and blockchain technology?\", '2. How has the company adapted its Intellectual Property Policy to keep up with the emergence of new technologies such as AI and blockchain?', \"3. In what ways has the company's Intellectual Property Policy evolved to address the impact of AI and blockchain on the industry?\"]\n"
     ]
    },
    {
     "name": "stdout",
     "output_type": "stream",
     "text": [
      "---- Question: How does the company's Intellectual Property Policy evolve in response to emerging technologies like AI and blockchain? ----\n",
      "---- Answer ----\n",
      "\n",
      "The company's Intellectual Property Policy is periodically reviewed and may be amended as necessary to ensure its continued effectiveness and compliance with applicable laws and regulations. This means that as new technologies, such as AI and blockchain, emerge and become relevant to the company's intellectual property, the policy may be updated to address these developments. Additionally, employees will be notified of any significant changes to the policy, ensuring that they are aware of any updates and can continue to abide by the terms of the policy.\n",
      "\n",
      "\n"
     ]
    },
    {
     "name": "stderr",
     "output_type": "stream",
     "text": [
      "INFO:langchain.retrievers.multi_query:Generated queries: ['1. How does the sales organization use unconventional strategies to challenge traditional market practices?', '2. Can you provide examples of unconventional tactics used by the sales organization to disrupt traditional market practices?', '3. In what ways does the sales organization employ unique strategies to disrupt traditional market practices?']\n"
     ]
    },
    {
     "name": "stdout",
     "output_type": "stream",
     "text": [
      "---- Question: What are the unconventional strategies employed by the sales organization to disrupt traditional market practices? ----\n",
      "---- Answer ----\n",
      "\n",
      "One unconventional strategy employed by the sales organization is to expand the sales team to cover new markets and industries. This allows the company to reach new customers and disrupt traditional market practices by offering their products and services to a wider audience. Additionally, the sales team is provided with ongoing training on product knowledge, sales techniques, and industry trends, which allows them to stay ahead of the competition and adapt to changing market practices. Another unconventional strategy is the implementation of a performance-based incentive system to reward top performers. This incentivizes the sales team to go above and beyond in their sales efforts, disrupting traditional market practices where sales may be solely based on commission or salary. Furthermore, the company plans to develop targeted marketing campaigns for different customer segments and industries, leveraging digital marketing channels to increase brand visibility and lead generation. This approach disrupts traditional market practices by targeting specific customer segments and utilizing modern marketing techniques. Finally, the company plans to participate in industry events and trade shows to showcase their products and services, which can disrupt traditional market practices by providing a more personal and interactive experience for potential customers.\n",
      "\n",
      "\n"
     ]
    },
    {
     "name": "stderr",
     "output_type": "stream",
     "text": [
      "INFO:langchain.retrievers.multi_query:Generated queries: ['1. How does the Intellectual Property Policy balance innovation and compliance in relation to open-source contributions?', '2. Can you elaborate on the relationship between innovation and compliance in the context of open-source contributions within the Intellectual Property Policy?', '3. In what ways does the Intellectual Property Policy address the balance between innovation and compliance when it comes to open-source contributions?']\n"
     ]
    },
    {
     "name": "stdout",
     "output_type": "stream",
     "text": [
      "---- Question: Can you explain the balance between innovation and compliance within the Intellectual Property Policy in the context of open-source contributions? ----\n",
      "---- Answer ----\n",
      "\n",
      "The Intellectual Property Policy aims to strike a balance between encouraging creativity and innovation while also ensuring that the interests of both the company and its employees are protected. This is especially important in the context of open-source contributions, where employees may be creating intellectual property outside of company time and without the use of company resources. In this case, the policy generally allows the employee to retain ownership of the intellectual property. However, if the contribution is directly related to the employee's job responsibilities or if company resources were used in its creation, the company may claim ownership of the intellectual property. This balance between innovation and compliance is important in order to protect the company's interests while also allowing employees to contribute to open-source projects and foster creativity and innovation.\n",
      "\n",
      "\n"
     ]
    },
    {
     "name": "stderr",
     "output_type": "stream",
     "text": [
      "INFO:langchain.retrievers.multi_query:Generated queries: ['1. What are some ways the sales team utilizes behavioral science to improve customer engagement and increase sales?', '2. Can you provide examples of how the sales team incorporates behavioral science into their strategies for customer engagement and sales growth?', '3. In what ways does the sales team apply behavioral science principles to enhance customer engagement and drive sales?']\n"
     ]
    },
    {
     "name": "stdout",
     "output_type": "stream",
     "text": [
      "---- Question: How does the sales team leverage behavioral science to enhance customer engagement and drive sales? ----\n",
      "---- Answer ----\n",
      "The sales team can leverage behavioral science in several ways to enhance customer engagement and drive sales. One way is by providing ongoing training to sales staff on product knowledge, sales techniques, and industry trends. This can help them understand the psychology behind customer behavior and tailor their approach accordingly. Additionally, the sales team can also use targeted marketing campaigns for different customer segments and industries, taking into account behavioral science principles to appeal to their specific needs and preferences. Furthermore, implementing a proactive customer success program and collecting and analyzing customer feedback can also help identify areas for improvement and enhance customer engagement. By continuously seeking feedback and collaborating with other engineers, the sales team can also improve the product or service offerings to better meet the needs and behaviors of their customers. Finally, mutual respect and support between the sales and engineering teams can also contribute to a positive customer experience and drive sales.\n",
      "\n",
      "\n"
     ]
    },
    {
     "name": "stderr",
     "output_type": "stream",
     "text": [
      "INFO:langchain.retrievers.multi_query:Generated queries: ['1. How does the Intellectual Property Policy affect the partnership with external collaborators and the incorporation of their innovative ideas?', '2. What are the implications of the Intellectual Property Policy on working with external partners and integrating their innovations?', '3. In what manner does the Intellectual Property Policy influence the collaboration with external partners and the integration of their advancements?']\n"
     ]
    },
    {
     "name": "stdout",
     "output_type": "stream",
     "text": [
      "---- Question: In what ways does the Intellectual Property Policy impact the collaboration with external partners and the integration of their innovations? ----\n",
      "---- Answer ----\n",
      "\n",
      "The Intellectual Property Policy may impact the collaboration with external partners and the integration of their innovations in several ways. Firstly, the policy establishes guidelines and procedures for the ownership, protection, and utilization of intellectual property generated by employees during their employment. This means that any intellectual property created, conceived, or developed by employees during company time or using company resources, equipment, or facilities will be considered the property of the company. This may affect the ability of external partners to collaborate with employees on projects that involve the creation of intellectual property, as the ownership of the resulting intellectual property may be subject to the policy.\n",
      "\n",
      "Additionally, the policy states that the company has the right to protect, license, and commercialize any intellectual property owned by the company as it deems appropriate. This means that if external partners contribute to the creation of intellectual property, the company may have the right to license or commercialize it without the consent of the external partners. This could potentially impact the willingness of external partners to collaborate with the company, as they may not have control over the use and distribution of their innovations.\n",
      "\n",
      "Furthermore, the policy requires employees to maintain the confidentiality of any intellectual property owned by the company and not disclose it to any third parties without the express written consent of an authorized representative of the company. This\n",
      "\n",
      "\n",
      "=== Completed All Questions ===\n",
      "\n"
     ]
    }
   ],
   "source": [
    "# Function to ask a question and get an answer\n",
    "def ask_question(question):\n",
    "    ans = chain.invoke(question)\n",
    "    print(f\"---- Question: {question} ----\")\n",
    "    print(f\"---- Answer ----\")\n",
    "    print(ans)\n",
    "    print(\"\\n\")\n",
    "\n",
    "# Lists of questions\n",
    "questions = [\n",
    "    \"What was the first animal in space?\",\n",
    "    \"How to sale a spaceship?\",\n",
    "    \"How does the company's Intellectual Property Policy evolve in response to emerging technologies like AI and blockchain?\",\n",
    "    \"What are the unconventional strategies employed by the sales organization to disrupt traditional market practices?\",\n",
    "    \"Can you explain the balance between innovation and compliance within the Intellectual Property Policy in the context of open-source contributions?\",\n",
    "    \"How does the sales team leverage behavioral science to enhance customer engagement and drive sales?\",\n",
    "    \"In what ways does the Intellectual Property Policy impact the collaboration with external partners and the integration of their innovations?\"\n",
    "]\n",
    "\n",
    "# Function to process a list of questions\n",
    "def process_questions(questions, category_name):\n",
    "    print(f\"=== Processing {category_name} Questions ===\")\n",
    "    for question in questions:\n",
    "        ask_question(question)\n",
    "    print(f\"=== Completed {category_name} Questions ===\\n\")\n",
    "\n",
    "# Process all questions\n",
    "process_questions(questions, \"All\")\n"
   ]
  },
  {
   "cell_type": "code",
   "execution_count": null,
   "metadata": {},
   "outputs": [],
   "source": []
  }
 ],
 "metadata": {
  "kernelspec": {
   "display_name": "Python 3 (ipykernel)",
   "language": "python",
   "name": "python3"
  },
  "language_info": {
   "codemirror_mode": {
    "name": "ipython",
    "version": 3
   },
   "file_extension": ".py",
   "mimetype": "text/x-python",
   "name": "python",
   "nbconvert_exporter": "python",
   "pygments_lexer": "ipython3",
   "version": "3.12.2"
  }
 },
 "nbformat": 4,
 "nbformat_minor": 4
}
